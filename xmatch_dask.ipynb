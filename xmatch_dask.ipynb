{
 "cells": [
  {
   "cell_type": "code",
   "execution_count": 1,
   "metadata": {},
   "outputs": [],
   "source": [
    "from dask.distributed import Client\n",
    "import dask.dataframe as dd\n",
    "import dask.array as da\n",
    "import dask.bag as db\n",
    "import matplotlib.pyplot as plt \n",
    "import numpy as np  \n",
    "import lsdb\n",
    "import pandas as pd\n",
    "from catalog_filtering import bandFilterLenient, contains_PM"
   ]
  },
  {
   "cell_type": "code",
   "execution_count": 2,
   "metadata": {},
   "outputs": [
    {
     "name": "stderr",
     "output_type": "stream",
     "text": [
      "/Users/johnpassos/Documents/LSDB/venv/lib/python3.11/site-packages/lsdb/dask/crossmatch_catalog_data.py:121: RuntimeWarning: Right catalog does not have a margin cache. Results may be incomplete and/or inaccurate.\n",
      "  warnings.warn(\n"
     ]
    }
   ],
   "source": [
    "#Bands we care about\n",
    "bandList = ['G','R','I','Z','Y']\n",
    "\n",
    "#Keeping only the important columns\n",
    "crucialCols = (\n",
    "    [f'CLASS_STAR_{band}' for band in bandList] + \n",
    "    [f'FLAGS_{band}' for band in bandList] + \n",
    "    ['RA','DEC','COADD_OBJECT_ID'] + \n",
    "    [f'SPREAD_MODEL_{band}' for band in bandList] + \n",
    "    [f'WAVG_MAG_PSF_{band}' for band in bandList] + \n",
    "    [f'WAVG_MAGERR_PSF_{band}' for band in bandList]\n",
    ")\n",
    "\n",
    "catalog = lsdb.read_hipscat('hipscat/des_one_deg/', columns=crucialCols)\n",
    "\n",
    "#Filtering for specific measurement vaTlues\n",
    "qs = bandFilterLenient(bandList,classStar=0.95,spreadModel=0.05,magError=0.05,flag=True,invalidMags=True)\n",
    "filtered_catalog = catalog.query(qs)\n",
    "\n",
    "#Performing crossmatch\n",
    "xmatch = filtered_catalog.crossmatch(filtered_catalog, n_neighbors=100, radius_arcsec=18, suffixes=['_1', '_2'])\n",
    "\n",
    "# with Client():  \n",
    "#     df = xmatch.compute()"
   ]
  },
  {
   "cell_type": "code",
   "execution_count": 3,
   "metadata": {},
   "outputs": [],
   "source": [
    "neighbors = xmatch._ddf.groupby('_hipscat_index')['_dist_arcsec'].count()\n",
    "neighbors -= 1 #Double counting adjustment"
   ]
  },
  {
   "cell_type": "code",
   "execution_count": 4,
   "metadata": {},
   "outputs": [
    {
     "ename": "ValueError",
     "evalue": "Not all divisions are known, can't align partitions. Please use `set_index` to set the index.",
     "output_type": "error",
     "traceback": [
      "\u001b[0;31m---------------------------------------------------------------------------\u001b[0m",
      "\u001b[0;31mValueError\u001b[0m                                Traceback (most recent call last)",
      "\u001b[1;32m/Users/johnpassos/Documents/LSDB/xmatch_dask.ipynb Cell 4\u001b[0m line \u001b[0;36m1\n\u001b[0;32m----> <a href='vscode-notebook-cell:/Users/johnpassos/Documents/LSDB/xmatch_dask.ipynb#W3sZmlsZQ%3D%3D?line=0'>1</a>\u001b[0m xmatch\u001b[39m.\u001b[39;49m_ddf[\u001b[39m'\u001b[39;49m\u001b[39mneighbors\u001b[39;49m\u001b[39m'\u001b[39;49m] \u001b[39m=\u001b[39m neighbors\n\u001b[1;32m      <a href='vscode-notebook-cell:/Users/johnpassos/Documents/LSDB/xmatch_dask.ipynb#W3sZmlsZQ%3D%3D?line=2'>3</a>\u001b[0m three_or_more_matches \u001b[39m=\u001b[39m xmatch\u001b[39m.\u001b[39m_ddf\u001b[39m.\u001b[39mquery(\u001b[39m'\u001b[39m\u001b[39mneighbors >= 3\u001b[39m\u001b[39m'\u001b[39m)\n\u001b[1;32m      <a href='vscode-notebook-cell:/Users/johnpassos/Documents/LSDB/xmatch_dask.ipynb#W3sZmlsZQ%3D%3D?line=3'>4</a>\u001b[0m star_groups \u001b[39m=\u001b[39m three_or_more_matches\u001b[39m.\u001b[39mgroupby(\u001b[39m'\u001b[39m\u001b[39m_hipscat_index\u001b[39m\u001b[39m'\u001b[39m)\n",
      "File \u001b[0;32m~/Documents/LSDB/venv/lib/python3.11/site-packages/dask/dataframe/core.py:5218\u001b[0m, in \u001b[0;36mDataFrame.__setitem__\u001b[0;34m(self, key, value)\u001b[0m\n\u001b[1;32m   5216\u001b[0m     \u001b[39mraise\u001b[39;00m \u001b[39mNotImplementedError\u001b[39;00m(\u001b[39mf\u001b[39m\u001b[39m\"\u001b[39m\u001b[39mItem assignment with \u001b[39m\u001b[39m{\u001b[39;00m\u001b[39mtype\u001b[39m(key)\u001b[39m}\u001b[39;00m\u001b[39m not supported\u001b[39m\u001b[39m\"\u001b[39m)\n\u001b[1;32m   5217\u001b[0m \u001b[39melse\u001b[39;00m:\n\u001b[0;32m-> 5218\u001b[0m     df \u001b[39m=\u001b[39m \u001b[39mself\u001b[39;49m\u001b[39m.\u001b[39;49massign(\u001b[39m*\u001b[39;49m\u001b[39m*\u001b[39;49m{key: value})\n\u001b[1;32m   5220\u001b[0m \u001b[39mself\u001b[39m\u001b[39m.\u001b[39mdask \u001b[39m=\u001b[39m df\u001b[39m.\u001b[39mdask\n\u001b[1;32m   5221\u001b[0m \u001b[39mself\u001b[39m\u001b[39m.\u001b[39m_name \u001b[39m=\u001b[39m df\u001b[39m.\u001b[39m_name\n",
      "File \u001b[0;32m~/Documents/LSDB/venv/lib/python3.11/site-packages/dask/dataframe/core.py:5668\u001b[0m, in \u001b[0;36mDataFrame.assign\u001b[0;34m(self, **kwargs)\u001b[0m\n\u001b[1;32m   5664\u001b[0m     \u001b[39m# Figure out columns of the output\u001b[39;00m\n\u001b[1;32m   5665\u001b[0m     df2 \u001b[39m=\u001b[39m data\u001b[39m.\u001b[39m_meta_nonempty\u001b[39m.\u001b[39massign(\n\u001b[1;32m   5666\u001b[0m         \u001b[39m*\u001b[39m\u001b[39m*\u001b[39m_extract_meta({k: kwargs[k]}, nonempty\u001b[39m=\u001b[39m\u001b[39mTrue\u001b[39;00m)\n\u001b[1;32m   5667\u001b[0m     )\n\u001b[0;32m-> 5668\u001b[0m     data \u001b[39m=\u001b[39m elemwise(methods\u001b[39m.\u001b[39;49massign, data, \u001b[39m*\u001b[39;49mpairs, meta\u001b[39m=\u001b[39;49mdf2)\n\u001b[1;32m   5670\u001b[0m \u001b[39mreturn\u001b[39;00m data\n",
      "File \u001b[0;32m~/Documents/LSDB/venv/lib/python3.11/site-packages/dask/dataframe/core.py:6786\u001b[0m, in \u001b[0;36melemwise\u001b[0;34m(op, meta, out, transform_divisions, *args, **kwargs)\u001b[0m\n\u001b[1;32m   6782\u001b[0m args \u001b[39m=\u001b[39m _maybe_from_pandas(args)\n\u001b[1;32m   6784\u001b[0m \u001b[39mfrom\u001b[39;00m \u001b[39mdask\u001b[39;00m\u001b[39m.\u001b[39;00m\u001b[39mdataframe\u001b[39;00m\u001b[39m.\u001b[39;00m\u001b[39mmulti\u001b[39;00m \u001b[39mimport\u001b[39;00m _maybe_align_partitions\n\u001b[0;32m-> 6786\u001b[0m args \u001b[39m=\u001b[39m _maybe_align_partitions(args)\n\u001b[1;32m   6787\u001b[0m dasks \u001b[39m=\u001b[39m [arg \u001b[39mfor\u001b[39;00m arg \u001b[39min\u001b[39;00m args \u001b[39mif\u001b[39;00m \u001b[39misinstance\u001b[39m(arg, (_Frame, Scalar, Array))]\n\u001b[1;32m   6788\u001b[0m dfs \u001b[39m=\u001b[39m [df \u001b[39mfor\u001b[39;00m df \u001b[39min\u001b[39;00m dasks \u001b[39mif\u001b[39;00m \u001b[39misinstance\u001b[39m(df, _Frame)]\n",
      "File \u001b[0;32m~/Documents/LSDB/venv/lib/python3.11/site-packages/dask/dataframe/multi.py:177\u001b[0m, in \u001b[0;36m_maybe_align_partitions\u001b[0;34m(args)\u001b[0m\n\u001b[1;32m    175\u001b[0m divisions \u001b[39m=\u001b[39m dfs[\u001b[39m0\u001b[39m]\u001b[39m.\u001b[39mdivisions\n\u001b[1;32m    176\u001b[0m \u001b[39mif\u001b[39;00m \u001b[39mnot\u001b[39;00m \u001b[39mall\u001b[39m(df\u001b[39m.\u001b[39mdivisions \u001b[39m==\u001b[39m divisions \u001b[39mfor\u001b[39;00m df \u001b[39min\u001b[39;00m dfs):\n\u001b[0;32m--> 177\u001b[0m     dfs2 \u001b[39m=\u001b[39m \u001b[39miter\u001b[39m(align_partitions(\u001b[39m*\u001b[39;49mdfs)[\u001b[39m0\u001b[39m])\n\u001b[1;32m    178\u001b[0m     \u001b[39mreturn\u001b[39;00m [a \u001b[39mif\u001b[39;00m \u001b[39mnot\u001b[39;00m \u001b[39misinstance\u001b[39m(a, _Frame) \u001b[39melse\u001b[39;00m \u001b[39mnext\u001b[39m(dfs2) \u001b[39mfor\u001b[39;00m a \u001b[39min\u001b[39;00m args]\n\u001b[1;32m    179\u001b[0m \u001b[39mreturn\u001b[39;00m args\n",
      "File \u001b[0;32m~/Documents/LSDB/venv/lib/python3.11/site-packages/dask/dataframe/multi.py:131\u001b[0m, in \u001b[0;36malign_partitions\u001b[0;34m(*dfs)\u001b[0m\n\u001b[1;32m    129\u001b[0m     \u001b[39mraise\u001b[39;00m \u001b[39mValueError\u001b[39;00m(\u001b[39m\"\u001b[39m\u001b[39mdfs contains no DataFrame and Series\u001b[39m\u001b[39m\"\u001b[39m)\n\u001b[1;32m    130\u001b[0m \u001b[39mif\u001b[39;00m \u001b[39mnot\u001b[39;00m \u001b[39mall\u001b[39m(df\u001b[39m.\u001b[39mknown_divisions \u001b[39mfor\u001b[39;00m df \u001b[39min\u001b[39;00m dfs1):\n\u001b[0;32m--> 131\u001b[0m     \u001b[39mraise\u001b[39;00m \u001b[39mValueError\u001b[39;00m(\n\u001b[1;32m    132\u001b[0m         \u001b[39m\"\u001b[39m\u001b[39mNot all divisions are known, can\u001b[39m\u001b[39m'\u001b[39m\u001b[39mt align \u001b[39m\u001b[39m\"\u001b[39m\n\u001b[1;32m    133\u001b[0m         \u001b[39m\"\u001b[39m\u001b[39mpartitions. Please use `set_index` \u001b[39m\u001b[39m\"\u001b[39m\n\u001b[1;32m    134\u001b[0m         \u001b[39m\"\u001b[39m\u001b[39mto set the index.\u001b[39m\u001b[39m\"\u001b[39m\n\u001b[1;32m    135\u001b[0m     )\n\u001b[1;32m    137\u001b[0m divisions \u001b[39m=\u001b[39m \u001b[39mlist\u001b[39m(unique(merge_sorted(\u001b[39m*\u001b[39m[df\u001b[39m.\u001b[39mdivisions \u001b[39mfor\u001b[39;00m df \u001b[39min\u001b[39;00m dfs1])))\n\u001b[1;32m    138\u001b[0m \u001b[39mif\u001b[39;00m \u001b[39mlen\u001b[39m(divisions) \u001b[39m==\u001b[39m \u001b[39m1\u001b[39m:  \u001b[39m# single value for index\u001b[39;00m\n",
      "\u001b[0;31mValueError\u001b[0m: Not all divisions are known, can't align partitions. Please use `set_index` to set the index."
     ]
    }
   ],
   "source": [
    "xmatch._ddf['neighbors'] = neighbors\n",
    "\n",
    "three_or_more_matches = xmatch._ddf.query('neighbors >= 3')\n",
    "star_groups = three_or_more_matches.groupby('_hipscat_index')"
   ]
  }
 ],
 "metadata": {
  "kernelspec": {
   "display_name": "venv",
   "language": "python",
   "name": "python3"
  },
  "language_info": {
   "codemirror_mode": {
    "name": "ipython",
    "version": 3
   },
   "file_extension": ".py",
   "mimetype": "text/x-python",
   "name": "python",
   "nbconvert_exporter": "python",
   "pygments_lexer": "ipython3",
   "version": "3.11.7"
  }
 },
 "nbformat": 4,
 "nbformat_minor": 2
}
