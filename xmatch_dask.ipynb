{
 "cells": [
  {
   "cell_type": "code",
   "execution_count": 1,
   "metadata": {},
   "outputs": [],
   "source": [
    "from dask.distributed import Client\n",
    "import dask.dataframe as dd\n",
    "import dask.array as da\n",
    "import dask.bag as db\n",
    "import matplotlib.pyplot as plt \n",
    "import numpy as np  \n",
    "import lsdb\n",
    "import pandas as pd\n",
    "from catalog_filtering import bandFilterLenient, contains_PM"
   ]
  },
  {
   "cell_type": "code",
   "execution_count": 13,
   "metadata": {},
   "outputs": [
    {
     "name": "stderr",
     "output_type": "stream",
     "text": [
      "/Users/johnpassos/Documents/LSDB/venv/lib/python3.11/site-packages/lsdb/dask/crossmatch_catalog_data.py:108: RuntimeWarning: Right catalog does not have a margin cache. Results may be incomplete and/or inaccurate.\n",
      "  warnings.warn(\n"
     ]
    }
   ],
   "source": [
    "#Bands we care about\n",
    "bandList = ['G','R','I','Z','Y']\n",
    "\n",
    "#Keeping only the important columns\n",
    "crucialCols = (\n",
    "    [f'CLASS_STAR_{band}' for band in bandList] + \n",
    "    [f'FLAGS_{band}' for band in bandList] + \n",
    "    ['RA','DEC','COADD_OBJECT_ID'] + \n",
    "    [f'SPREAD_MODEL_{band}' for band in bandList] + \n",
    "    [f'WAVG_MAG_PSF_{band}' for band in bandList] + \n",
    "    [f'WAVG_MAGERR_PSF_{band}' for band in bandList]\n",
    ")\n",
    "\n",
    "catalog = lsdb.read_hipscat('hipscat/des_one_deg/', columns=crucialCols)\n",
    "\n",
    "#Filtering for specific measurement vaTlues\n",
    "qs = bandFilterLenient(bandList,classStar=0.95,spreadModel=0.05,magError=0.05,flag=True,invalidMags=True)\n",
    "filtered_catalog = catalog.query(qs)\n",
    "\n",
    "#Performing crossmatch\n",
    "xmatch = filtered_catalog.crossmatch(filtered_catalog, n_neighbors=100, radius_arcsec=18, suffixes=['_1', '_2'])\n",
    "xmatch_ddf = xmatch._ddf\n",
    "\n",
    "with Client():\n",
    "    df = xmatch.compute()"
   ]
  },
  {
   "cell_type": "code",
   "execution_count": 14,
   "metadata": {},
   "outputs": [],
   "source": [
    "# neighbors = xmatch_ddf.groupby('_hipscat_index')['_dist_arcsec'].count()\n",
    "# neighbors -= 1 #Double counting adjustment\n",
    "# neighbors.name = 'neighbors'\n",
    "neighbors = df.groupby('_hipscat_index')['_dist_arcsec'].count()\n",
    "neighbors -= 1 #Double counting adjustment\n",
    "df['neighbors'] = neighbors"
   ]
  },
  {
   "cell_type": "code",
   "execution_count": 16,
   "metadata": {},
   "outputs": [],
   "source": [
    "# xmatch_ddf_neighbors = xmatch_ddf.join(neighbors, on='_hipscat_index')\n",
    "# #may need .assign if .join shuffles, shuffling is computationally expensive\n",
    "\n",
    "# three_or_more_matches = xmatch_ddf_neighbors.query('neighbors >= 3')\n",
    "# star_groups = three_or_more_matches.groupby('_hipscat_index')\n",
    "\n",
    "\n",
    "three_or_more_matches = df.query('neighbors >= 3')\n",
    "star_groups = three_or_more_matches.groupby('_hipscat_index')"
   ]
  },
  {
   "cell_type": "code",
   "execution_count": 39,
   "metadata": {},
   "outputs": [
    {
     "name": "stderr",
     "output_type": "stream",
     "text": [
      "/var/folders/0c/6x3jvx_j7h184r9zypvs_0v40000gn/T/ipykernel_52589/1001583601.py:3: UserWarning: _from_scalars should only raise ValueError or TypeError. Consider overriding _from_scalars where appropriate.\n",
      "  star_groups_df = star_groups_df.agg(agg_func)\n"
     ]
    },
    {
     "ename": "ArrowNotImplementedError",
     "evalue": "Unsupported cast from list<item: double> to double using function cast_double",
     "output_type": "error",
     "traceback": [
      "\u001b[0;31m---------------------------------------------------------------------------\u001b[0m",
      "\u001b[0;31mArrowNotImplementedError\u001b[0m                  Traceback (most recent call last)",
      "\u001b[1;32m/Users/johnpassos/Documents/LSDB/xmatch_dask.ipynb Cell 5\u001b[0m line \u001b[0;36m3\n\u001b[1;32m      <a href='vscode-notebook-cell:/Users/johnpassos/Documents/LSDB/xmatch_dask.ipynb#X15sZmlsZQ%3D%3D?line=0'>1</a>\u001b[0m agg_func \u001b[39m=\u001b[39m \u001b[39mlambda\u001b[39;00m x: \u001b[39mlist\u001b[39m(x)\n\u001b[1;32m      <a href='vscode-notebook-cell:/Users/johnpassos/Documents/LSDB/xmatch_dask.ipynb#X15sZmlsZQ%3D%3D?line=1'>2</a>\u001b[0m star_groups_df \u001b[39m=\u001b[39m three_or_more_matches\u001b[39m.\u001b[39mgroupby(\u001b[39m'\u001b[39m\u001b[39m_hipscat_index\u001b[39m\u001b[39m'\u001b[39m)\n\u001b[0;32m----> <a href='vscode-notebook-cell:/Users/johnpassos/Documents/LSDB/xmatch_dask.ipynb#X15sZmlsZQ%3D%3D?line=2'>3</a>\u001b[0m star_groups_df \u001b[39m=\u001b[39m star_groups_df\u001b[39m.\u001b[39;49magg(agg_func)\n",
      "File \u001b[0;32m~/Documents/LSDB/venv/lib/python3.11/site-packages/pandas/core/groupby/generic.py:1482\u001b[0m, in \u001b[0;36mDataFrameGroupBy.aggregate\u001b[0;34m(self, func, engine, engine_kwargs, *args, **kwargs)\u001b[0m\n\u001b[1;32m   1480\u001b[0m gba \u001b[39m=\u001b[39m GroupByApply(\u001b[39mself\u001b[39m, [func], args\u001b[39m=\u001b[39m(), kwargs\u001b[39m=\u001b[39m{})\n\u001b[1;32m   1481\u001b[0m \u001b[39mtry\u001b[39;00m:\n\u001b[0;32m-> 1482\u001b[0m     result \u001b[39m=\u001b[39m gba\u001b[39m.\u001b[39;49magg()\n\u001b[1;32m   1484\u001b[0m \u001b[39mexcept\u001b[39;00m \u001b[39mValueError\u001b[39;00m \u001b[39mas\u001b[39;00m err:\n\u001b[1;32m   1485\u001b[0m     \u001b[39mif\u001b[39;00m \u001b[39m\"\u001b[39m\u001b[39mNo objects to concatenate\u001b[39m\u001b[39m\"\u001b[39m \u001b[39mnot\u001b[39;00m \u001b[39min\u001b[39;00m \u001b[39mstr\u001b[39m(err):\n",
      "File \u001b[0;32m~/Documents/LSDB/venv/lib/python3.11/site-packages/pandas/core/apply.py:193\u001b[0m, in \u001b[0;36mApply.agg\u001b[0;34m(self)\u001b[0m\n\u001b[1;32m    190\u001b[0m     \u001b[39mreturn\u001b[39;00m \u001b[39mself\u001b[39m\u001b[39m.\u001b[39magg_dict_like()\n\u001b[1;32m    191\u001b[0m \u001b[39melif\u001b[39;00m is_list_like(func):\n\u001b[1;32m    192\u001b[0m     \u001b[39m# we require a list, but not a 'str'\u001b[39;00m\n\u001b[0;32m--> 193\u001b[0m     \u001b[39mreturn\u001b[39;00m \u001b[39mself\u001b[39;49m\u001b[39m.\u001b[39;49magg_list_like()\n\u001b[1;32m    195\u001b[0m \u001b[39mif\u001b[39;00m \u001b[39mcallable\u001b[39m(func):\n\u001b[1;32m    196\u001b[0m     f \u001b[39m=\u001b[39m com\u001b[39m.\u001b[39mget_cython_func(func)\n",
      "File \u001b[0;32m~/Documents/LSDB/venv/lib/python3.11/site-packages/pandas/core/apply.py:326\u001b[0m, in \u001b[0;36mApply.agg_list_like\u001b[0;34m(self)\u001b[0m\n\u001b[1;32m    318\u001b[0m \u001b[39mdef\u001b[39;00m \u001b[39magg_list_like\u001b[39m(\u001b[39mself\u001b[39m) \u001b[39m-\u001b[39m\u001b[39m>\u001b[39m DataFrame \u001b[39m|\u001b[39m Series:\n\u001b[1;32m    319\u001b[0m \u001b[39m    \u001b[39m\u001b[39m\"\"\"\u001b[39;00m\n\u001b[1;32m    320\u001b[0m \u001b[39m    Compute aggregation in the case of a list-like argument.\u001b[39;00m\n\u001b[1;32m    321\u001b[0m \n\u001b[0;32m   (...)\u001b[0m\n\u001b[1;32m    324\u001b[0m \u001b[39m    Result of aggregation.\u001b[39;00m\n\u001b[1;32m    325\u001b[0m \u001b[39m    \"\"\"\u001b[39;00m\n\u001b[0;32m--> 326\u001b[0m     \u001b[39mreturn\u001b[39;00m \u001b[39mself\u001b[39;49m\u001b[39m.\u001b[39;49magg_or_apply_list_like(op_name\u001b[39m=\u001b[39;49m\u001b[39m\"\u001b[39;49m\u001b[39magg\u001b[39;49m\u001b[39m\"\u001b[39;49m)\n",
      "File \u001b[0;32m~/Documents/LSDB/venv/lib/python3.11/site-packages/pandas/core/apply.py:1571\u001b[0m, in \u001b[0;36mGroupByApply.agg_or_apply_list_like\u001b[0;34m(self, op_name)\u001b[0m\n\u001b[1;32m   1566\u001b[0m \u001b[39m# Only set as_index=True on groupby objects, not Window or Resample\u001b[39;00m\n\u001b[1;32m   1567\u001b[0m \u001b[39m# that inherit from this class.\u001b[39;00m\n\u001b[1;32m   1568\u001b[0m \u001b[39mwith\u001b[39;00m com\u001b[39m.\u001b[39mtemp_setattr(\n\u001b[1;32m   1569\u001b[0m     obj, \u001b[39m\"\u001b[39m\u001b[39mas_index\u001b[39m\u001b[39m\"\u001b[39m, \u001b[39mTrue\u001b[39;00m, condition\u001b[39m=\u001b[39m\u001b[39mhasattr\u001b[39m(obj, \u001b[39m\"\u001b[39m\u001b[39mas_index\u001b[39m\u001b[39m\"\u001b[39m)\n\u001b[1;32m   1570\u001b[0m ):\n\u001b[0;32m-> 1571\u001b[0m     keys, results \u001b[39m=\u001b[39m \u001b[39mself\u001b[39;49m\u001b[39m.\u001b[39;49mcompute_list_like(op_name, selected_obj, kwargs)\n\u001b[1;32m   1572\u001b[0m result \u001b[39m=\u001b[39m \u001b[39mself\u001b[39m\u001b[39m.\u001b[39mwrap_results_list_like(keys, results)\n\u001b[1;32m   1573\u001b[0m \u001b[39mreturn\u001b[39;00m result\n",
      "File \u001b[0;32m~/Documents/LSDB/venv/lib/python3.11/site-packages/pandas/core/apply.py:385\u001b[0m, in \u001b[0;36mApply.compute_list_like\u001b[0;34m(self, op_name, selected_obj, kwargs)\u001b[0m\n\u001b[1;32m    379\u001b[0m colg \u001b[39m=\u001b[39m obj\u001b[39m.\u001b[39m_gotitem(col, ndim\u001b[39m=\u001b[39m\u001b[39m1\u001b[39m, subset\u001b[39m=\u001b[39mselected_obj\u001b[39m.\u001b[39miloc[:, index])\n\u001b[1;32m    380\u001b[0m args \u001b[39m=\u001b[39m (\n\u001b[1;32m    381\u001b[0m     [\u001b[39mself\u001b[39m\u001b[39m.\u001b[39maxis, \u001b[39m*\u001b[39m\u001b[39mself\u001b[39m\u001b[39m.\u001b[39margs]\n\u001b[1;32m    382\u001b[0m     \u001b[39mif\u001b[39;00m include_axis(op_name, colg)\n\u001b[1;32m    383\u001b[0m     \u001b[39melse\u001b[39;00m \u001b[39mself\u001b[39m\u001b[39m.\u001b[39margs\n\u001b[1;32m    384\u001b[0m )\n\u001b[0;32m--> 385\u001b[0m new_res \u001b[39m=\u001b[39m \u001b[39mgetattr\u001b[39;49m(colg, op_name)(func, \u001b[39m*\u001b[39;49margs, \u001b[39m*\u001b[39;49m\u001b[39m*\u001b[39;49mkwargs)\n\u001b[1;32m    386\u001b[0m results\u001b[39m.\u001b[39mappend(new_res)\n\u001b[1;32m    387\u001b[0m indices\u001b[39m.\u001b[39mappend(index)\n",
      "File \u001b[0;32m~/Documents/LSDB/venv/lib/python3.11/site-packages/pandas/core/groupby/generic.py:257\u001b[0m, in \u001b[0;36mSeriesGroupBy.aggregate\u001b[0;34m(self, func, engine, engine_kwargs, *args, **kwargs)\u001b[0m\n\u001b[1;32m    255\u001b[0m kwargs[\u001b[39m\"\u001b[39m\u001b[39mengine\u001b[39m\u001b[39m\"\u001b[39m] \u001b[39m=\u001b[39m engine\n\u001b[1;32m    256\u001b[0m kwargs[\u001b[39m\"\u001b[39m\u001b[39mengine_kwargs\u001b[39m\u001b[39m\"\u001b[39m] \u001b[39m=\u001b[39m engine_kwargs\n\u001b[0;32m--> 257\u001b[0m ret \u001b[39m=\u001b[39m \u001b[39mself\u001b[39;49m\u001b[39m.\u001b[39;49m_aggregate_multiple_funcs(func, \u001b[39m*\u001b[39;49margs, \u001b[39m*\u001b[39;49m\u001b[39m*\u001b[39;49mkwargs)\n\u001b[1;32m    258\u001b[0m \u001b[39mif\u001b[39;00m relabeling:\n\u001b[1;32m    259\u001b[0m     \u001b[39m# columns is not narrowed by mypy from relabeling flag\u001b[39;00m\n\u001b[1;32m    260\u001b[0m     \u001b[39massert\u001b[39;00m columns \u001b[39mis\u001b[39;00m \u001b[39mnot\u001b[39;00m \u001b[39mNone\u001b[39;00m  \u001b[39m# for mypy\u001b[39;00m\n",
      "File \u001b[0;32m~/Documents/LSDB/venv/lib/python3.11/site-packages/pandas/core/groupby/generic.py:362\u001b[0m, in \u001b[0;36mSeriesGroupBy._aggregate_multiple_funcs\u001b[0;34m(self, arg, *args, **kwargs)\u001b[0m\n\u001b[1;32m    360\u001b[0m     \u001b[39mfor\u001b[39;00m idx, (name, func) \u001b[39min\u001b[39;00m \u001b[39menumerate\u001b[39m(arg):\n\u001b[1;32m    361\u001b[0m         key \u001b[39m=\u001b[39m base\u001b[39m.\u001b[39mOutputKey(label\u001b[39m=\u001b[39mname, position\u001b[39m=\u001b[39midx)\n\u001b[0;32m--> 362\u001b[0m         results[key] \u001b[39m=\u001b[39m \u001b[39mself\u001b[39;49m\u001b[39m.\u001b[39;49maggregate(func, \u001b[39m*\u001b[39;49margs, \u001b[39m*\u001b[39;49m\u001b[39m*\u001b[39;49mkwargs)\n\u001b[1;32m    364\u001b[0m \u001b[39mif\u001b[39;00m \u001b[39many\u001b[39m(\u001b[39misinstance\u001b[39m(x, DataFrame) \u001b[39mfor\u001b[39;00m x \u001b[39min\u001b[39;00m results\u001b[39m.\u001b[39mvalues()):\n\u001b[1;32m    365\u001b[0m     \u001b[39mfrom\u001b[39;00m \u001b[39mpandas\u001b[39;00m \u001b[39mimport\u001b[39;00m concat\n",
      "File \u001b[0;32m~/Documents/LSDB/venv/lib/python3.11/site-packages/pandas/core/groupby/generic.py:294\u001b[0m, in \u001b[0;36mSeriesGroupBy.aggregate\u001b[0;34m(self, func, engine, engine_kwargs, *args, **kwargs)\u001b[0m\n\u001b[1;32m    291\u001b[0m     \u001b[39mreturn\u001b[39;00m \u001b[39mself\u001b[39m\u001b[39m.\u001b[39m_python_agg_general(func, \u001b[39m*\u001b[39margs, \u001b[39m*\u001b[39m\u001b[39m*\u001b[39mkwargs)\n\u001b[1;32m    293\u001b[0m \u001b[39mtry\u001b[39;00m:\n\u001b[0;32m--> 294\u001b[0m     \u001b[39mreturn\u001b[39;00m \u001b[39mself\u001b[39;49m\u001b[39m.\u001b[39;49m_python_agg_general(func, \u001b[39m*\u001b[39;49margs, \u001b[39m*\u001b[39;49m\u001b[39m*\u001b[39;49mkwargs)\n\u001b[1;32m    295\u001b[0m \u001b[39mexcept\u001b[39;00m \u001b[39mKeyError\u001b[39;00m:\n\u001b[1;32m    296\u001b[0m     \u001b[39m# KeyError raised in test_groupby.test_basic is bc the func does\u001b[39;00m\n\u001b[1;32m    297\u001b[0m     \u001b[39m#  a dictionary lookup on group.name, but group name is not\u001b[39;00m\n\u001b[1;32m    298\u001b[0m     \u001b[39m#  pinned in _python_agg_general, only in _aggregate_named\u001b[39;00m\n\u001b[1;32m    299\u001b[0m     result \u001b[39m=\u001b[39m \u001b[39mself\u001b[39m\u001b[39m.\u001b[39m_aggregate_named(func, \u001b[39m*\u001b[39margs, \u001b[39m*\u001b[39m\u001b[39m*\u001b[39mkwargs)\n",
      "File \u001b[0;32m~/Documents/LSDB/venv/lib/python3.11/site-packages/pandas/core/groupby/generic.py:327\u001b[0m, in \u001b[0;36mSeriesGroupBy._python_agg_general\u001b[0;34m(self, func, *args, **kwargs)\u001b[0m\n\u001b[1;32m    324\u001b[0m f \u001b[39m=\u001b[39m \u001b[39mlambda\u001b[39;00m x: func(x, \u001b[39m*\u001b[39margs, \u001b[39m*\u001b[39m\u001b[39m*\u001b[39mkwargs)\n\u001b[1;32m    326\u001b[0m obj \u001b[39m=\u001b[39m \u001b[39mself\u001b[39m\u001b[39m.\u001b[39m_obj_with_exclusions\n\u001b[0;32m--> 327\u001b[0m result \u001b[39m=\u001b[39m \u001b[39mself\u001b[39;49m\u001b[39m.\u001b[39;49m_grouper\u001b[39m.\u001b[39;49magg_series(obj, f)\n\u001b[1;32m    328\u001b[0m res \u001b[39m=\u001b[39m obj\u001b[39m.\u001b[39m_constructor(result, name\u001b[39m=\u001b[39mobj\u001b[39m.\u001b[39mname)\n\u001b[1;32m    329\u001b[0m \u001b[39mreturn\u001b[39;00m \u001b[39mself\u001b[39m\u001b[39m.\u001b[39m_wrap_aggregated_output(res)\n",
      "File \u001b[0;32m~/Documents/LSDB/venv/lib/python3.11/site-packages/pandas/core/groupby/ops.py:868\u001b[0m, in \u001b[0;36mBaseGrouper.agg_series\u001b[0;34m(self, obj, func, preserve_dtype)\u001b[0m\n\u001b[1;32m    866\u001b[0m npvalues \u001b[39m=\u001b[39m lib\u001b[39m.\u001b[39mmaybe_convert_objects(result, try_float\u001b[39m=\u001b[39m\u001b[39mFalse\u001b[39;00m)\n\u001b[1;32m    867\u001b[0m \u001b[39mif\u001b[39;00m preserve_dtype:\n\u001b[0;32m--> 868\u001b[0m     out \u001b[39m=\u001b[39m maybe_cast_pointwise_result(npvalues, obj\u001b[39m.\u001b[39;49mdtype, numeric_only\u001b[39m=\u001b[39;49m\u001b[39mTrue\u001b[39;49;00m)\n\u001b[1;32m    869\u001b[0m \u001b[39melse\u001b[39;00m:\n\u001b[1;32m    870\u001b[0m     out \u001b[39m=\u001b[39m npvalues\n",
      "File \u001b[0;32m~/Documents/LSDB/venv/lib/python3.11/site-packages/pandas/core/dtypes/cast.py:471\u001b[0m, in \u001b[0;36mmaybe_cast_pointwise_result\u001b[0;34m(result, dtype, numeric_only, same_dtype)\u001b[0m\n\u001b[1;32m    469\u001b[0m \u001b[39mcls\u001b[39m \u001b[39m=\u001b[39m dtype\u001b[39m.\u001b[39mconstruct_array_type()\n\u001b[1;32m    470\u001b[0m \u001b[39mif\u001b[39;00m same_dtype:\n\u001b[0;32m--> 471\u001b[0m     result \u001b[39m=\u001b[39m _maybe_cast_to_extension_array(\u001b[39mcls\u001b[39;49m, result, dtype\u001b[39m=\u001b[39;49mdtype)\n\u001b[1;32m    472\u001b[0m \u001b[39melse\u001b[39;00m:\n\u001b[1;32m    473\u001b[0m     result \u001b[39m=\u001b[39m _maybe_cast_to_extension_array(\u001b[39mcls\u001b[39m, result)\n",
      "File \u001b[0;32m~/Documents/LSDB/venv/lib/python3.11/site-packages/pandas/core/dtypes/cast.py:502\u001b[0m, in \u001b[0;36m_maybe_cast_to_extension_array\u001b[0;34m(cls, obj, dtype)\u001b[0m\n\u001b[1;32m    500\u001b[0m \u001b[39mif\u001b[39;00m dtype \u001b[39mis\u001b[39;00m \u001b[39mnot\u001b[39;00m \u001b[39mNone\u001b[39;00m:\n\u001b[1;32m    501\u001b[0m     \u001b[39mtry\u001b[39;00m:\n\u001b[0;32m--> 502\u001b[0m         result \u001b[39m=\u001b[39m \u001b[39mcls\u001b[39;49m\u001b[39m.\u001b[39;49m_from_scalars(obj, dtype\u001b[39m=\u001b[39;49mdtype)\n\u001b[1;32m    503\u001b[0m     \u001b[39mexcept\u001b[39;00m (\u001b[39mTypeError\u001b[39;00m, \u001b[39mValueError\u001b[39;00m):\n\u001b[1;32m    504\u001b[0m         \u001b[39mreturn\u001b[39;00m obj\n",
      "File \u001b[0;32m~/Documents/LSDB/venv/lib/python3.11/site-packages/pandas/core/arrays/base.py:319\u001b[0m, in \u001b[0;36mExtensionArray._from_scalars\u001b[0;34m(cls, scalars, dtype)\u001b[0m\n\u001b[1;32m    300\u001b[0m \u001b[39m\u001b[39m\u001b[39m\"\"\"\u001b[39;00m\n\u001b[1;32m    301\u001b[0m \u001b[39mStrict analogue to _from_sequence, allowing only sequences of scalars\u001b[39;00m\n\u001b[1;32m    302\u001b[0m \u001b[39mthat should be specifically inferred to the given dtype.\u001b[39;00m\n\u001b[0;32m   (...)\u001b[0m\n\u001b[1;32m    316\u001b[0m \u001b[39mpointwise operation.\u001b[39;00m\n\u001b[1;32m    317\u001b[0m \u001b[39m\"\"\"\u001b[39;00m\n\u001b[1;32m    318\u001b[0m \u001b[39mtry\u001b[39;00m:\n\u001b[0;32m--> 319\u001b[0m     \u001b[39mreturn\u001b[39;00m \u001b[39mcls\u001b[39;49m\u001b[39m.\u001b[39;49m_from_sequence(scalars, dtype\u001b[39m=\u001b[39;49mdtype, copy\u001b[39m=\u001b[39;49m\u001b[39mFalse\u001b[39;49;00m)\n\u001b[1;32m    320\u001b[0m \u001b[39mexcept\u001b[39;00m (\u001b[39mValueError\u001b[39;00m, \u001b[39mTypeError\u001b[39;00m):\n\u001b[1;32m    321\u001b[0m     \u001b[39mraise\u001b[39;00m\n",
      "File \u001b[0;32m~/Documents/LSDB/venv/lib/python3.11/site-packages/pandas/core/arrays/arrow/array.py:309\u001b[0m, in \u001b[0;36mArrowExtensionArray._from_sequence\u001b[0;34m(cls, scalars, dtype, copy)\u001b[0m\n\u001b[1;32m    305\u001b[0m \u001b[39m\u001b[39m\u001b[39m\"\"\"\u001b[39;00m\n\u001b[1;32m    306\u001b[0m \u001b[39mConstruct a new ExtensionArray from a sequence of scalars.\u001b[39;00m\n\u001b[1;32m    307\u001b[0m \u001b[39m\"\"\"\u001b[39;00m\n\u001b[1;32m    308\u001b[0m pa_type \u001b[39m=\u001b[39m to_pyarrow_type(dtype)\n\u001b[0;32m--> 309\u001b[0m pa_array \u001b[39m=\u001b[39m \u001b[39mcls\u001b[39;49m\u001b[39m.\u001b[39;49m_box_pa_array(scalars, pa_type\u001b[39m=\u001b[39;49mpa_type, copy\u001b[39m=\u001b[39;49mcopy)\n\u001b[1;32m    310\u001b[0m arr \u001b[39m=\u001b[39m \u001b[39mcls\u001b[39m(pa_array)\n\u001b[1;32m    311\u001b[0m \u001b[39mreturn\u001b[39;00m arr\n",
      "File \u001b[0;32m~/Documents/LSDB/venv/lib/python3.11/site-packages/pandas/core/arrays/arrow/array.py:525\u001b[0m, in \u001b[0;36mArrowExtensionArray._box_pa_array\u001b[0;34m(cls, value, pa_type, copy)\u001b[0m\n\u001b[1;32m    523\u001b[0m \u001b[39melse\u001b[39;00m:\n\u001b[1;32m    524\u001b[0m     \u001b[39mtry\u001b[39;00m:\n\u001b[0;32m--> 525\u001b[0m         pa_array \u001b[39m=\u001b[39m pa_array\u001b[39m.\u001b[39;49mcast(pa_type)\n\u001b[1;32m    526\u001b[0m     \u001b[39mexcept\u001b[39;00m (\n\u001b[1;32m    527\u001b[0m         pa\u001b[39m.\u001b[39mArrowInvalid,\n\u001b[1;32m    528\u001b[0m         pa\u001b[39m.\u001b[39mArrowTypeError,\n\u001b[1;32m    529\u001b[0m         pa\u001b[39m.\u001b[39mArrowNotImplementedError,\n\u001b[1;32m    530\u001b[0m     ):\n\u001b[1;32m    531\u001b[0m         \u001b[39mif\u001b[39;00m pa\u001b[39m.\u001b[39mtypes\u001b[39m.\u001b[39mis_string(pa_array\u001b[39m.\u001b[39mtype) \u001b[39mor\u001b[39;00m pa\u001b[39m.\u001b[39mtypes\u001b[39m.\u001b[39mis_large_string(\n\u001b[1;32m    532\u001b[0m             pa_array\u001b[39m.\u001b[39mtype\n\u001b[1;32m    533\u001b[0m         ):\n\u001b[1;32m    534\u001b[0m             \u001b[39m# TODO: Move logic in _from_sequence_of_strings into\u001b[39;00m\n\u001b[1;32m    535\u001b[0m             \u001b[39m# _box_pa_array\u001b[39;00m\n",
      "File \u001b[0;32m~/Documents/LSDB/venv/lib/python3.11/site-packages/pyarrow/array.pxi:985\u001b[0m, in \u001b[0;36mpyarrow.lib.Array.cast\u001b[0;34m()\u001b[0m\n",
      "File \u001b[0;32m~/Documents/LSDB/venv/lib/python3.11/site-packages/pyarrow/compute.py:404\u001b[0m, in \u001b[0;36mcast\u001b[0;34m(arr, target_type, safe, options, memory_pool)\u001b[0m\n\u001b[1;32m    402\u001b[0m     \u001b[39melse\u001b[39;00m:\n\u001b[1;32m    403\u001b[0m         options \u001b[39m=\u001b[39m CastOptions\u001b[39m.\u001b[39msafe(target_type)\n\u001b[0;32m--> 404\u001b[0m \u001b[39mreturn\u001b[39;00m call_function(\u001b[39m\"\u001b[39;49m\u001b[39mcast\u001b[39;49m\u001b[39m\"\u001b[39;49m, [arr], options, memory_pool)\n",
      "File \u001b[0;32m~/Documents/LSDB/venv/lib/python3.11/site-packages/pyarrow/_compute.pyx:590\u001b[0m, in \u001b[0;36mpyarrow._compute.call_function\u001b[0;34m()\u001b[0m\n",
      "File \u001b[0;32m~/Documents/LSDB/venv/lib/python3.11/site-packages/pyarrow/_compute.pyx:385\u001b[0m, in \u001b[0;36mpyarrow._compute.Function.call\u001b[0;34m()\u001b[0m\n",
      "File \u001b[0;32m~/Documents/LSDB/venv/lib/python3.11/site-packages/pyarrow/error.pxi:154\u001b[0m, in \u001b[0;36mpyarrow.lib.pyarrow_internal_check_status\u001b[0;34m()\u001b[0m\n",
      "File \u001b[0;32m~/Documents/LSDB/venv/lib/python3.11/site-packages/pyarrow/error.pxi:91\u001b[0m, in \u001b[0;36mpyarrow.lib.check_status\u001b[0;34m()\u001b[0m\n",
      "\u001b[0;31mArrowNotImplementedError\u001b[0m: Unsupported cast from list<item: double> to double using function cast_double"
     ]
    }
   ],
   "source": [
    "agg_func = lambda x: list(x)\n",
    "star_groups_df = three_or_more_matches.groupby('_hipscat_index')\n",
    "star_groups_df = star_groups_df.agg(agg_func)\n"
   ]
  },
  {
   "cell_type": "code",
   "execution_count": 6,
   "metadata": {},
   "outputs": [],
   "source": [
    "def distance_to_line(PQ, line_vector):\n",
    "    return np.abs(np.cross(PQ, line_vector)) / np.linalg.norm(line_vector)\n",
    "\n",
    "def closeToProjection(line_vector, x, y, error):\n",
    "    PQ = np.array([x, y])\n",
    "    distance = distance_to_line(PQ, line_vector)\n",
    "    return distance < error"
   ]
  },
  {
   "cell_type": "code",
   "execution_count": 41,
   "metadata": {},
   "outputs": [
    {
     "name": "stdout",
     "output_type": "stream",
     "text": [
      "                  A       B\n",
      "index                      \n",
      "1              [10]  [x, y]\n",
      "2          [30, 40]  [x, z]\n",
      "3      [50, 60, 70]  [y, z]\n"
     ]
    }
   ],
   "source": [
    "pdf = pd.DataFrame({\n",
    "    'index': [1, 1, 2, 2, 2, 3, 3, 3],\n",
    "    'A': [10, 10, 30, 40, 30, 50, 60, 70],\n",
    "    'B': ['x', 'y', 'x', 'z', 'x', 'y', 'y', 'z']\n",
    "})\n",
    "\n",
    "ddf = pdf.set_index('index')\n",
    "\n",
    "agg_func = lambda x: list(x.unique())\n",
    "\n",
    "result = ddf.groupby(ddf.index).agg(agg_func)\n",
    "\n",
    "print(result)\n"
   ]
  },
  {
   "cell_type": "code",
   "execution_count": 5,
   "metadata": {},
   "outputs": [
    {
     "ename": "NotImplementedError",
     "evalue": "Iteration of DataFrameGroupBy objects requires computing the groups which may be slow. You probably want to use 'apply' to execute a function for all the columns. To access individual groups, use 'get_group'. To list all the group names, use 'df[<group column>].unique().compute()'.",
     "output_type": "error",
     "traceback": [
      "\u001b[0;31m---------------------------------------------------------------------------\u001b[0m",
      "\u001b[0;31mNotImplementedError\u001b[0m                       Traceback (most recent call last)",
      "\u001b[1;32m/Users/johnpassos/Documents/LSDB/xmatch_dask.ipynb Cell 5\u001b[0m line \u001b[0;36m4\n\u001b[1;32m      <a href='vscode-notebook-cell:/Users/johnpassos/Documents/LSDB/xmatch_dask.ipynb#W4sZmlsZQ%3D%3D?line=0'>1</a>\u001b[0m PM_df \u001b[39m=\u001b[39m pd\u001b[39m.\u001b[39mDataFrame()\n\u001b[1;32m      <a href='vscode-notebook-cell:/Users/johnpassos/Documents/LSDB/xmatch_dask.ipynb#W4sZmlsZQ%3D%3D?line=2'>3</a>\u001b[0m plt\u001b[39m.\u001b[39mfigure(figsize\u001b[39m=\u001b[39m(\u001b[39m8\u001b[39m, \u001b[39m8\u001b[39m))\n\u001b[0;32m----> <a href='vscode-notebook-cell:/Users/johnpassos/Documents/LSDB/xmatch_dask.ipynb#W4sZmlsZQ%3D%3D?line=3'>4</a>\u001b[0m \u001b[39mfor\u001b[39;49;00m _hipscat_index, group \u001b[39min\u001b[39;49;00m star_groups:\n\u001b[1;32m      <a href='vscode-notebook-cell:/Users/johnpassos/Documents/LSDB/xmatch_dask.ipynb#W4sZmlsZQ%3D%3D?line=4'>5</a>\u001b[0m     \u001b[39m#origin point\u001b[39;49;00m\n\u001b[1;32m      <a href='vscode-notebook-cell:/Users/johnpassos/Documents/LSDB/xmatch_dask.ipynb#W4sZmlsZQ%3D%3D?line=5'>6</a>\u001b[0m     ra1, dec1 \u001b[39m=\u001b[39;49m group\u001b[39m.\u001b[39;49miloc[\u001b[39m0\u001b[39;49m][[\u001b[39m\"\u001b[39;49m\u001b[39mRA_1\u001b[39;49m\u001b[39m\"\u001b[39;49m, \u001b[39m\"\u001b[39;49m\u001b[39mDEC_1\u001b[39;49m\u001b[39m\"\u001b[39;49m]]\n\u001b[1;32m      <a href='vscode-notebook-cell:/Users/johnpassos/Documents/LSDB/xmatch_dask.ipynb#W4sZmlsZQ%3D%3D?line=7'>8</a>\u001b[0m     \u001b[39m#array of matched points\u001b[39;49;00m\n",
      "File \u001b[0;32m~/Documents/LSDB/venv/lib/python3.11/site-packages/dask/dataframe/groupby.py:1448\u001b[0m, in \u001b[0;36m_GroupBy.__iter__\u001b[0;34m(self)\u001b[0m\n\u001b[1;32m   1447\u001b[0m \u001b[39mdef\u001b[39;00m \u001b[39m__iter__\u001b[39m(\u001b[39mself\u001b[39m):\n\u001b[0;32m-> 1448\u001b[0m     \u001b[39mraise\u001b[39;00m \u001b[39mNotImplementedError\u001b[39;00m(\n\u001b[1;32m   1449\u001b[0m         \u001b[39m\"\u001b[39m\u001b[39mIteration of DataFrameGroupBy objects requires computing the groups which \u001b[39m\u001b[39m\"\u001b[39m\n\u001b[1;32m   1450\u001b[0m         \u001b[39m\"\u001b[39m\u001b[39mmay be slow. You probably want to use \u001b[39m\u001b[39m'\u001b[39m\u001b[39mapply\u001b[39m\u001b[39m'\u001b[39m\u001b[39m to execute a function for \u001b[39m\u001b[39m\"\u001b[39m\n\u001b[1;32m   1451\u001b[0m         \u001b[39m\"\u001b[39m\u001b[39mall the columns. To access individual groups, use \u001b[39m\u001b[39m'\u001b[39m\u001b[39mget_group\u001b[39m\u001b[39m'\u001b[39m\u001b[39m. To list \u001b[39m\u001b[39m\"\u001b[39m\n\u001b[1;32m   1452\u001b[0m         \u001b[39m\"\u001b[39m\u001b[39mall the group names, use \u001b[39m\u001b[39m'\u001b[39m\u001b[39mdf[<group column>].unique().compute()\u001b[39m\u001b[39m'\u001b[39m\u001b[39m.\u001b[39m\u001b[39m\"\u001b[39m\n\u001b[1;32m   1453\u001b[0m     )\n",
      "\u001b[0;31mNotImplementedError\u001b[0m: Iteration of DataFrameGroupBy objects requires computing the groups which may be slow. You probably want to use 'apply' to execute a function for all the columns. To access individual groups, use 'get_group'. To list all the group names, use 'df[<group column>].unique().compute()'."
     ]
    },
    {
     "data": {
      "text/plain": [
       "<Figure size 800x800 with 0 Axes>"
      ]
     },
     "metadata": {},
     "output_type": "display_data"
    }
   ],
   "source": [
    "\n",
    "PM_df = pd.DataFrame()\n",
    "\n",
    "plt.figure(figsize=(8, 8))\n",
    "for _hipscat_index, group in star_groups:\n",
    "    #origin point\n",
    "    ra1, dec1 = group.iloc[0][[\"RA_1\", \"DEC_1\"]]\n",
    "    \n",
    "    #array of matched points\n",
    "    ra2, dec2 = da.from_array(group[[\"RA_2\", \"DEC_2\"]])\n",
    "    # ra2, dec2 = group[[\"RA_2\", \"DEC_2\"]].to_numpy().T\n",
    "    print(ra2, dec2)\n",
    "\n",
    "    #perform delta RA, DEC calculations\n",
    "    x_vals = (ra2 - ra1) * np.cos(np.radians(dec1)) * 3600\n",
    "    y_vals = (dec2 - dec1) * 3600\n",
    "\n",
    "    #Create list of tuples of coordinates\n",
    "    coords = zip(x_vals, y_vals)\n",
    "    coords = list(coords)\n",
    "\n",
    "    id_1 = group.iloc[0]['COADD_OBJECT_ID_1']\n",
    "    id_2 = group['COADD_OBJECT_ID_2'].to_numpy().T\n",
    "\n",
    "\n",
    "    for i in range(len(coords)):\n",
    "        found = 0\n",
    "        line_vector = coords[i]\n",
    "\n",
    "        if (line_vector == (0,0)): continue #invalid line vector\n",
    "        \n",
    "        for j in range(len(coords)):\n",
    "            if (j == i): continue #prevent double counting\n",
    "\n",
    "            test_x, test_y = coords[j]\n",
    "            if closeToProjection(line_vector, test_x, test_y, .2): #2 milliseconds\n",
    "                found += 1\n",
    "\n",
    "        if (found >= 3) and (id_1 == min(id_2)): #4 or more in a line (probable PMS) and prevent double graphing\n",
    "            plt.scatter(x_vals, y_vals, s=20)\n",
    "            PM_df = pd.concat([PM_df, group], axis=0)\n",
    "\n",
    "plt.xlabel('ΔRight-Ascention (arcsecs)')\n",
    "plt.ylabel('ΔDeclination (arcsecs)')\n",
    "plt.title('Possible PM Stars Following Star Filtering and Line Projection')\n"
   ]
  },
  {
   "cell_type": "code",
   "execution_count": null,
   "metadata": {},
   "outputs": [],
   "source": [
    "def get_collinear_star_groups(star_groups, max_unalignment):\n",
    "    for _hipscat_index, group in star_groups:\n",
    "        #origin point\n",
    "        ra1, dec1 = group.iloc[0][[\"RA_1\", \"DEC_1\"]]\n",
    "        \n",
    "        #array of matched points\n",
    "        ra2, dec2 = da.from_array(group[[\"RA_2\", \"DEC_2\"]])\n",
    "        # ra2, dec2 = group[[\"RA_2\", \"DEC_2\"]].to_numpy().T\n",
    "        print(ra2, dec2)\n",
    "\n",
    "        #perform delta RA, DEC calculations\n",
    "        x_vals = (ra2 - ra1) * np.cos(np.radians(dec1)) * 3600\n",
    "        y_vals = (dec2 - dec1) * 3600\n",
    "\n",
    "        #Create list of tuples of coordinates\n",
    "        coords = zip(x_vals, y_vals)\n",
    "        coords = list(coords)\n",
    "\n",
    "        id_1 = group.iloc[0]['COADD_OBJECT_ID_1']\n",
    "        id_2 = group['COADD_OBJECT_ID_2'].to_numpy().T\n",
    "\n",
    "\n",
    "        for i in range(len(coords)):\n",
    "            found = 0\n",
    "            line_vector = coords[i]\n",
    "\n",
    "            if (line_vector == (0,0)): continue #invalid line vector\n",
    "            \n",
    "            for j in range(len(coords)):\n",
    "                if (j == i): continue #prevent double counting\n",
    "\n",
    "                test_x, test_y = coords[j]\n",
    "                if closeToProjection(line_vector, test_x, test_y, .2): #2 milliseconds\n",
    "                    found += 1\n",
    "\n",
    "            if (found >= 3) and (id_1 == min(id_2)): #4 or more in a line (probable PMS) and prevent double graphing\n",
    "                plt.scatter(x_vals, y_vals, s=20)\n",
    "                PM_df = pd.concat([PM_df, group], axis=0)\n"
   ]
  }
 ],
 "metadata": {
  "kernelspec": {
   "display_name": "venv",
   "language": "python",
   "name": "python3"
  },
  "language_info": {
   "codemirror_mode": {
    "name": "ipython",
    "version": 3
   },
   "file_extension": ".py",
   "mimetype": "text/x-python",
   "name": "python",
   "nbconvert_exporter": "python",
   "pygments_lexer": "ipython3",
   "version": "3.11.7"
  }
 },
 "nbformat": 4,
 "nbformat_minor": 2
}
